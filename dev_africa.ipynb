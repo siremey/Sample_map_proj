{
 "cells": [
  {
   "cell_type": "code",
   "execution_count": 1,
   "id": "06ac4f79-cff6-4ba1-b753-d3fe50057e72",
   "metadata": {},
   "outputs": [],
   "source": [
    "import ee\n",
    "import geemap"
   ]
  },
  {
   "cell_type": "code",
   "execution_count": 2,
   "id": "63d34a02-91cc-47aa-825f-4471de451f61",
   "metadata": {},
   "outputs": [
    {
     "data": {
      "text/html": [
       "\n",
       "            <style>\n",
       "                .geemap-dark {\n",
       "                    --jp-widgets-color: white;\n",
       "                    --jp-widgets-label-color: white;\n",
       "                    --jp-ui-font-color1: white;\n",
       "                    --jp-layout-color2: #454545;\n",
       "                    background-color: #383838;\n",
       "                }\n",
       "                    \n",
       "                .geemap-dark .jupyter-button {\n",
       "                    --jp-layout-color3: #383838;\n",
       "                }\n",
       "                \n",
       "                .geemap-colab {\n",
       "                    background-color: var(--colab-primary-surface-color, white);\n",
       "                }\n",
       "                    \n",
       "                .geemap-colab .jupyter-button {\n",
       "                    --jp-layout-color3: var(--colab-primary-surface-color, white);\n",
       "                }\n",
       "            </style>\n",
       "            "
      ],
      "text/plain": [
       "<IPython.core.display.HTML object>"
      ]
     },
     "metadata": {},
     "output_type": "display_data"
    },
    {
     "data": {
      "application/vnd.jupyter.widget-view+json": {
       "model_id": "8dd45bda051645269dafd49a07fbcf25",
       "version_major": 2,
       "version_minor": 0
      },
      "text/plain": [
       "Map(center=[9, 7], controls=(WidgetControl(options=['position', 'transparent_bg'], widget=SearchDataGUI(childr…"
      ]
     },
     "execution_count": 2,
     "metadata": {},
     "output_type": "execute_result"
    }
   ],
   "source": [
    "Map = geemap.Map(center=(9, 7), zoom=6, height=500)\n",
    "\n",
    "countries = ee.FeatureCollection('FAO/GAUL/2015/level0')\n",
    "nig = countries.filter(ee.Filter.eq('ADM0_NAME','Nigeria'))\n",
    "style = {'color': '0000ffff', 'width': 0.5, 'fillColor': '00000000'}\n",
    "\n",
    "\n",
    "Map.addLayer(countries.style(**style), {}, 'Country Boundaries')\n",
    "Map.addLayer(nig, {}, 'Nigeria Boundary')\n",
    "\n",
    "Map"
   ]
  },
  {
   "cell_type": "code",
   "execution_count": 3,
   "id": "c8b6f678-1fc6-4be6-8d43-c4133af5b6c2",
   "metadata": {},
   "outputs": [
    {
     "data": {
      "text/html": [
       "\n",
       "            <style>\n",
       "                .geemap-dark {\n",
       "                    --jp-widgets-color: white;\n",
       "                    --jp-widgets-label-color: white;\n",
       "                    --jp-ui-font-color1: white;\n",
       "                    --jp-layout-color2: #454545;\n",
       "                    background-color: #383838;\n",
       "                }\n",
       "                    \n",
       "                .geemap-dark .jupyter-button {\n",
       "                    --jp-layout-color3: #383838;\n",
       "                }\n",
       "                \n",
       "                .geemap-colab {\n",
       "                    background-color: var(--colab-primary-surface-color, white);\n",
       "                }\n",
       "                    \n",
       "                .geemap-colab .jupyter-button {\n",
       "                    --jp-layout-color3: var(--colab-primary-surface-color, white);\n",
       "                }\n",
       "            </style>\n",
       "            "
      ],
      "text/plain": [
       "<IPython.core.display.HTML object>"
      ]
     },
     "metadata": {},
     "output_type": "display_data"
    },
    {
     "data": {
      "application/vnd.jupyter.widget-view+json": {
       "model_id": "6fcdd7864ba94b788343ca27503a51ee",
       "version_major": 2,
       "version_minor": 0
      },
      "text/plain": [
       "Map(center=[9, 9], controls=(WidgetControl(options=['position', 'transparent_bg'], widget=SearchDataGUI(childr…"
      ]
     },
     "execution_count": 3,
     "metadata": {},
     "output_type": "execute_result"
    }
   ],
   "source": [
    "landcover = ee.ImageCollection(\"ESA/WorldCover/v200\").first().clipToCollection(nig)\n",
    "\n",
    "visualization = {\n",
    "    'bands': ['Map'],\n",
    "}\n",
    "\n",
    "vs = {'color': 'FF0000', 'width': 2, 'fillColor': '00000000'}\n",
    "\n",
    "m = geemap.Map(center=(9,9), zoom=6, height=460, width='95%')\n",
    "m.addLayer(countries.style(**style), {}, 'Country Boundaries')\n",
    "m.add_layer(landcover, visualization, 'Landcover')\n",
    "m.addLayer(nig.style(**vs), {}, 'Nigeria Boundary')\n",
    "text = \"Created by Emeka Orji for map work review\"\n",
    "m.add_text(text, fontsize=15, position='bottomright')\n",
    "\n",
    "text1 = \"Data Source: FAO and ESA (2021 LandCover)\"\n",
    "m.add_text(text1, fontsize=10, position='bottomleft', padding='2px', border_radius='2px', background=False, bg_color='00000000')\n",
    "\n",
    "m.add_legend(\n",
    "    title=\"Nigeria ESA Land Cover Classification\", builtin_legend='ESA_WorldCover'\n",
    ")\n",
    "m"
   ]
  },
  {
   "cell_type": "code",
   "execution_count": 4,
   "id": "2f942695-6618-4c18-9e2b-e1491f055c06",
   "metadata": {},
   "outputs": [
    {
     "data": {
      "text/html": [
       "\n",
       "            <style>\n",
       "                .geemap-dark {\n",
       "                    --jp-widgets-color: white;\n",
       "                    --jp-widgets-label-color: white;\n",
       "                    --jp-ui-font-color1: white;\n",
       "                    --jp-layout-color2: #454545;\n",
       "                    background-color: #383838;\n",
       "                }\n",
       "                    \n",
       "                .geemap-dark .jupyter-button {\n",
       "                    --jp-layout-color3: #383838;\n",
       "                }\n",
       "                \n",
       "                .geemap-colab {\n",
       "                    background-color: var(--colab-primary-surface-color, white);\n",
       "                }\n",
       "                    \n",
       "                .geemap-colab .jupyter-button {\n",
       "                    --jp-layout-color3: var(--colab-primary-surface-color, white);\n",
       "                }\n",
       "            </style>\n",
       "            "
      ],
      "text/plain": [
       "<IPython.core.display.HTML object>"
      ]
     },
     "metadata": {},
     "output_type": "display_data"
    }
   ],
   "source": [
    "# import geemap.colormaps as cm\n",
    "\n",
    "# cm.plot_colormaps(width=12, height=0.4)"
   ]
  },
  {
   "cell_type": "code",
   "execution_count": 5,
   "id": "df9b7d39-99f5-4c79-a83e-a144c7452ffb",
   "metadata": {},
   "outputs": [
    {
     "data": {
      "text/html": [
       "\n",
       "            <style>\n",
       "                .geemap-dark {\n",
       "                    --jp-widgets-color: white;\n",
       "                    --jp-widgets-label-color: white;\n",
       "                    --jp-ui-font-color1: white;\n",
       "                    --jp-layout-color2: #454545;\n",
       "                    background-color: #383838;\n",
       "                }\n",
       "                    \n",
       "                .geemap-dark .jupyter-button {\n",
       "                    --jp-layout-color3: #383838;\n",
       "                }\n",
       "                \n",
       "                .geemap-colab {\n",
       "                    background-color: var(--colab-primary-surface-color, white);\n",
       "                }\n",
       "                    \n",
       "                .geemap-colab .jupyter-button {\n",
       "                    --jp-layout-color3: var(--colab-primary-surface-color, white);\n",
       "                }\n",
       "            </style>\n",
       "            "
      ],
      "text/plain": [
       "<IPython.core.display.HTML object>"
      ]
     },
     "metadata": {},
     "output_type": "display_data"
    },
    {
     "data": {
      "application/vnd.jupyter.widget-view+json": {
       "model_id": "fca9b01ab7814d9ba557b9941b7b7ae1",
       "version_major": 2,
       "version_minor": 0
      },
      "text/plain": [
       "Map(center=[9, 9], controls=(WidgetControl(options=['position', 'transparent_bg'], widget=SearchDataGUI(childr…"
      ]
     },
     "execution_count": 5,
     "metadata": {},
     "output_type": "execute_result"
    }
   ],
   "source": [
    "m = geemap.Map(center=(9,9), zoom=6, height=460, width='95%')\n",
    "\n",
    "dem = ee.Image('USGS/SRTMGL1_003')\n",
    "nig_elevation = dem.select('elevation').clipToCollection(nig)\n",
    "\n",
    "\n",
    "m.addLayer(countries.style(**style), {}, 'Country Boundaries')\n",
    "m.addLayer(nig.style(**vs), {}, 'Nigeria Boundary')\n",
    "\n",
    "vis_params = {\n",
    "    'min': 0,\n",
    "    'max': 2000,\n",
    "    'palette': 'terrain' #['006633', 'E5FFCC', '662A00', 'D8D8D8', 'F5F5F5'],\n",
    "}\n",
    "\n",
    "m.addLayer(nig_elevation, vis_params, 'Nigeria_DEM')\n",
    "text = \"Created by Emeka Orji for map work review\"\n",
    "m.add_text(text, fontsize=15, position='bottomright')\n",
    "\n",
    "text1 = \"Data Source: NASA / USGS\"\n",
    "m.add_text(text1, fontsize=11, position='bottomleft', padding='2px', border_radius='2px', transparent_bg=True, bg_color='00000000')\n",
    "\n",
    "m.add_colorbar(\n",
    "    vis_params,\n",
    "    label=\"Nig Elevation (m)\",\n",
    "    layer_name=\"Nigeria_DEM\",\n",
    "    font_size=8,\n",
    ")\n",
    "\n",
    "m"
   ]
  },
  {
   "cell_type": "code",
   "execution_count": null,
   "id": "0e09f619-5ec1-4d44-90f0-c12228becf4f",
   "metadata": {},
   "outputs": [],
   "source": []
  }
 ],
 "metadata": {
  "kernelspec": {
   "display_name": "Python 3 (ipykernel)",
   "language": "python",
   "name": "python3"
  },
  "language_info": {
   "codemirror_mode": {
    "name": "ipython",
    "version": 3
   },
   "file_extension": ".py",
   "mimetype": "text/x-python",
   "name": "python",
   "nbconvert_exporter": "python",
   "pygments_lexer": "ipython3",
   "version": "3.11.7"
  }
 },
 "nbformat": 4,
 "nbformat_minor": 5
}
